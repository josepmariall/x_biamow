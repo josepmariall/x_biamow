{
 "cells": [
  {
   "cell_type": "markdown",
   "metadata": {},
   "source": [
    "### VI. Running a prediction (inference)\n",
    "\n",
    "Now we are sure that our model uses the best algorithm. That the algorithm has been improved and the model generalizes well.\n",
    "\n",
    "Therefore, we can proceed to use our prediction model to predict unkown labels."
   ]
  },
  {
   "cell_type": "code",
   "execution_count": 1,
   "metadata": {},
   "outputs": [],
   "source": [
    "# import libraries\n",
    "import pandas as pd\n",
    "from sklearn import preprocessing\n",
    "import sklearn.model_selection as ms\n",
    "from sklearn import linear_model\n",
    "import sklearn.metrics as sklm\n",
    "import numpy as np\n",
    "import numpy.random as nr\n",
    "import matplotlib.pyplot as plt\n",
    "import seaborn as sns\n",
    "import scipy.stats as ss\n",
    "import math\n",
    "from sklearn.model_selection import train_test_split \n",
    "from sklearn.linear_model import LinearRegression\n",
    "from sklearn.metrics import mean_squared_log_error\n",
    "from sklearn import metrics\n",
    "\n",
    "%matplotlib inline\n",
    "%matplotlib inline"
   ]
  },
  {
   "cell_type": "code",
   "execution_count": 2,
   "metadata": {},
   "outputs": [
    {
     "name": "stderr",
     "output_type": "stream",
     "text": [
      "/anaconda3/envs/featsel/lib/python3.6/site-packages/sklearn/externals/joblib/__init__.py:15: DeprecationWarning: sklearn.externals.joblib is deprecated in 0.21 and will be removed in 0.23. Please import this functionality directly from joblib, which can be installed with: pip install joblib. If this warning is raised when loading pickled models, you may need to re-serialize those models with scikit-learn 0.21+.\n",
      "  warnings.warn(msg, category=DeprecationWarning)\n"
     ]
    }
   ],
   "source": [
    "from sklearn.externals import joblib\n",
    "from joblib import dump, load"
   ]
  },
  {
   "cell_type": "code",
   "execution_count": 3,
   "metadata": {},
   "outputs": [],
   "source": [
    "test = pd.read_csv('testprepared.csv')"
   ]
  },
  {
   "cell_type": "markdown",
   "metadata": {},
   "source": [
    "After reducing the feature space, I now need to select only the columns I used on the X_train.\n",
    "\n",
    "The columns are:\n",
    " Index(['price', 'capacity', 'failure_rate', 'margin', 'Quality:_Basic',\n",
    "       'Warranty_years:_2', 'Quality:_Medium', 'Perc_Margin:_Low'],\n",
    "      dtype='object')"
   ]
  },
  {
   "cell_type": "code",
   "execution_count": 4,
   "metadata": {
    "scrolled": true
   },
   "outputs": [
    {
     "data": {
      "text/plain": [
       "Index(['capacity', 'failure_rate', 'margin', 'price', 'prod_cost',\n",
       "       'product_type:_auto-portee', 'product_type:_electrique',\n",
       "       'product_type:_essence', 'Quality:_Basic', 'Quality:_High',\n",
       "       'Quality:_Medium', 'Warranty_years:_1', 'Warranty_years:_2',\n",
       "       'Warranty_years:_3', 'Perc_Margin:_High', 'Perc_Margin:_Low',\n",
       "       'Perc_Margin:_Medium'],\n",
       "      dtype='object')"
      ]
     },
     "execution_count": 4,
     "metadata": {},
     "output_type": "execute_result"
    }
   ],
   "source": [
    "test.columns"
   ]
  },
  {
   "cell_type": "code",
   "execution_count": 6,
   "metadata": {},
   "outputs": [],
   "source": [
    "test_final=test[['price', 'capacity', 'failure_rate', 'margin', \n",
    "                 'Quality:_Basic', 'Warranty_years:_2', 'Quality:_Medium', 'Perc_Margin:_Low']]"
   ]
  },
  {
   "cell_type": "code",
   "execution_count": 7,
   "metadata": {},
   "outputs": [
    {
     "data": {
      "text/html": [
       "<div>\n",
       "<style scoped>\n",
       "    .dataframe tbody tr th:only-of-type {\n",
       "        vertical-align: middle;\n",
       "    }\n",
       "\n",
       "    .dataframe tbody tr th {\n",
       "        vertical-align: top;\n",
       "    }\n",
       "\n",
       "    .dataframe thead th {\n",
       "        text-align: right;\n",
       "    }\n",
       "</style>\n",
       "<table border=\"1\" class=\"dataframe\">\n",
       "  <thead>\n",
       "    <tr style=\"text-align: right;\">\n",
       "      <th></th>\n",
       "      <th>price</th>\n",
       "      <th>capacity</th>\n",
       "      <th>failure_rate</th>\n",
       "      <th>margin</th>\n",
       "      <th>Quality:_Basic</th>\n",
       "      <th>Warranty_years:_2</th>\n",
       "      <th>Quality:_Medium</th>\n",
       "      <th>Perc_Margin:_Low</th>\n",
       "    </tr>\n",
       "  </thead>\n",
       "  <tbody>\n",
       "    <tr>\n",
       "      <th>0</th>\n",
       "      <td>768.160605</td>\n",
       "      <td>21.313064</td>\n",
       "      <td>0.037928</td>\n",
       "      <td>613.061762</td>\n",
       "      <td>0</td>\n",
       "      <td>0</td>\n",
       "      <td>1</td>\n",
       "      <td>0</td>\n",
       "    </tr>\n",
       "    <tr>\n",
       "      <th>1</th>\n",
       "      <td>865.727540</td>\n",
       "      <td>25.797234</td>\n",
       "      <td>0.038664</td>\n",
       "      <td>701.321608</td>\n",
       "      <td>1</td>\n",
       "      <td>0</td>\n",
       "      <td>0</td>\n",
       "      <td>0</td>\n",
       "    </tr>\n",
       "    <tr>\n",
       "      <th>2</th>\n",
       "      <td>807.374158</td>\n",
       "      <td>14.314083</td>\n",
       "      <td>0.043118</td>\n",
       "      <td>654.147498</td>\n",
       "      <td>1</td>\n",
       "      <td>0</td>\n",
       "      <td>0</td>\n",
       "      <td>0</td>\n",
       "    </tr>\n",
       "    <tr>\n",
       "      <th>3</th>\n",
       "      <td>866.573954</td>\n",
       "      <td>29.754390</td>\n",
       "      <td>0.038551</td>\n",
       "      <td>669.083239</td>\n",
       "      <td>1</td>\n",
       "      <td>0</td>\n",
       "      <td>0</td>\n",
       "      <td>0</td>\n",
       "    </tr>\n",
       "    <tr>\n",
       "      <th>4</th>\n",
       "      <td>859.205792</td>\n",
       "      <td>24.915116</td>\n",
       "      <td>0.038829</td>\n",
       "      <td>675.313221</td>\n",
       "      <td>1</td>\n",
       "      <td>0</td>\n",
       "      <td>0</td>\n",
       "      <td>0</td>\n",
       "    </tr>\n",
       "  </tbody>\n",
       "</table>\n",
       "</div>"
      ],
      "text/plain": [
       "        price   capacity  failure_rate      margin  Quality:_Basic  \\\n",
       "0  768.160605  21.313064      0.037928  613.061762               0   \n",
       "1  865.727540  25.797234      0.038664  701.321608               1   \n",
       "2  807.374158  14.314083      0.043118  654.147498               1   \n",
       "3  866.573954  29.754390      0.038551  669.083239               1   \n",
       "4  859.205792  24.915116      0.038829  675.313221               1   \n",
       "\n",
       "   Warranty_years:_2  Quality:_Medium  Perc_Margin:_Low  \n",
       "0                  0                1                 0  \n",
       "1                  0                0                 0  \n",
       "2                  0                0                 0  \n",
       "3                  0                0                 0  \n",
       "4                  0                0                 0  "
      ]
     },
     "execution_count": 7,
     "metadata": {},
     "output_type": "execute_result"
    }
   ],
   "source": [
    "test_final.head()"
   ]
  },
  {
   "cell_type": "code",
   "execution_count": 9,
   "metadata": {},
   "outputs": [],
   "source": [
    "clf = load('Forestimproved.joblib')\n",
    "predictionfinal = clf.predict(test_final)"
   ]
  },
  {
   "cell_type": "code",
   "execution_count": 10,
   "metadata": {},
   "outputs": [],
   "source": [
    "import numpy as np\n",
    "import pandas as pd\n",
    "predictionfinal = pd.DataFrame(predictionfinal).to_csv('predictionfinal.csv')"
   ]
  }
 ],
 "metadata": {
  "kernelspec": {
   "display_name": "Python 3",
   "language": "python",
   "name": "python3"
  },
  "language_info": {
   "codemirror_mode": {
    "name": "ipython",
    "version": 3
   },
   "file_extension": ".py",
   "mimetype": "text/x-python",
   "name": "python",
   "nbconvert_exporter": "python",
   "pygments_lexer": "ipython3",
   "version": "3.6.8"
  }
 },
 "nbformat": 4,
 "nbformat_minor": 2
}
