{
 "cells": [
  {
   "cell_type": "markdown",
   "metadata": {},
   "source": [
    "### IV Data preparation Train Data (2)\n",
    "\n",
    "Why do we create this notebook? Because after preparing training and unknonwn test data, we realize the number of columns on each set are not identical.\n",
    "\n",
    "I need to have identical columns on train and unknonwn test data in order to run the model, except for label column. Note: it is expected that unknown test data has no label column, as it's what we aim to predict."
   ]
  },
  {
   "cell_type": "code",
   "execution_count": 1,
   "metadata": {},
   "outputs": [],
   "source": [
    "# import libraries\n",
    "import pandas as pd\n",
    "from sklearn import preprocessing\n",
    "import sklearn.model_selection as ms\n",
    "from sklearn import linear_model\n",
    "import sklearn.metrics as sklm\n",
    "import numpy as np\n",
    "import numpy.random as nr\n",
    "import matplotlib.pyplot as plt\n",
    "import seaborn as sns\n",
    "import scipy.stats as ss\n",
    "import math\n",
    "from sklearn.model_selection import train_test_split \n",
    "from sklearn.linear_model import LinearRegression\n",
    "from sklearn import metrics\n",
    "\n",
    "%matplotlib inline\n",
    "%matplotlib inline"
   ]
  },
  {
   "cell_type": "code",
   "execution_count": 2,
   "metadata": {},
   "outputs": [
    {
     "name": "stdout",
     "output_type": "stream",
     "text": [
      "shape train data is (1399, 20)\n",
      "Columns in Train data are: Index(['capacity', 'failure_rate', 'margin', 'price', 'prod_cost',\n",
      "       'market_share', 'product_type:_auto-portee', 'product_type:_electrique',\n",
      "       'product_type:_essence', 'Quality:_Basic', 'Quality:_High',\n",
      "       'Quality:_Medium', 'Warranty_years:_1', 'Warranty_years:_2',\n",
      "       'Warranty_years:_3', 'Perc_Margin:_High', 'Perc_Margin:_Low',\n",
      "       'Perc_Margin:_Medium', 'Perc_Margin:_negtive', 'attractiveness'],\n",
      "      dtype='object')\n"
     ]
    }
   ],
   "source": [
    "#import prepared test data set after last modification \n",
    "#import data set\n",
    "train=pd.read_csv('dfprepared2.csv')\n",
    "print('shape train data is',train.shape)\n",
    "print('Columns in Train data are:',train.columns)"
   ]
  },
  {
   "cell_type": "code",
   "execution_count": 3,
   "metadata": {},
   "outputs": [
    {
     "name": "stdout",
     "output_type": "stream",
     "text": [
      "shape unknown test data data is (600, 17)\n",
      "Columns in unknown test data  data are: Index(['capacity', 'failure_rate', 'margin', 'price', 'prod_cost',\n",
      "       'product_type:_auto-portee', 'product_type:_electrique',\n",
      "       'product_type:_essence', 'Quality:_Basic', 'Quality:_High',\n",
      "       'Quality:_Medium', 'Warranty_years:_1', 'Warranty_years:_2',\n",
      "       'Warranty_years:_3', 'Perc_Margin:_High', 'Perc_Margin:_Low',\n",
      "       'Perc_Margin:_Medium'],\n",
      "      dtype='object')\n"
     ]
    }
   ],
   "source": [
    "#import unknown test data\n",
    "unknown_test_data=pd.read_csv('testprepared.csv')\n",
    "print('shape unknown test data data is',unknown_test_data.shape)\n",
    "print('Columns in unknown test data  data are:',unknown_test_data.columns)"
   ]
  },
  {
   "cell_type": "markdown",
   "metadata": {},
   "source": [
    "We can see there's a difference of 2 columns.\n",
    "The following columns do not exist onthe unkonwn test data: 'market_share', 'Perc_Margin:Negative'.\n",
    "Therefore, I proceed to delete above mentioned columns in the Train Data."
   ]
  },
  {
   "cell_type": "code",
   "execution_count": 4,
   "metadata": {},
   "outputs": [
    {
     "name": "stdout",
     "output_type": "stream",
     "text": [
      "(1399, 18)\n",
      "Index(['capacity', 'failure_rate', 'margin', 'price', 'prod_cost',\n",
      "       'product_type:_auto-portee', 'product_type:_electrique',\n",
      "       'product_type:_essence', 'Quality:_Basic', 'Quality:_High',\n",
      "       'Quality:_Medium', 'Warranty_years:_1', 'Warranty_years:_2',\n",
      "       'Warranty_years:_3', 'Perc_Margin:_High', 'Perc_Margin:_Low',\n",
      "       'Perc_Margin:_Medium', 'attractiveness'],\n",
      "      dtype='object')\n"
     ]
    }
   ],
   "source": [
    "train = train.drop(['market_share','Perc_Margin:_negtive'],axis=1)\n",
    "print (train.shape)\n",
    "print (train.columns)"
   ]
  },
  {
   "cell_type": "markdown",
   "metadata": {},
   "source": [
    "Now the number of columns in train and unkown test data are the same (except for label), so we can proceed to create a model with train data. "
   ]
  },
  {
   "cell_type": "code",
   "execution_count": 5,
   "metadata": {},
   "outputs": [],
   "source": [
    "train.to_csv(\"dfprepared3.csv\", index=False)"
   ]
  }
 ],
 "metadata": {
  "kernelspec": {
   "display_name": "Python 3",
   "language": "python",
   "name": "python3"
  },
  "language_info": {
   "codemirror_mode": {
    "name": "ipython",
    "version": 3
   },
   "file_extension": ".py",
   "mimetype": "text/x-python",
   "name": "python",
   "nbconvert_exporter": "python",
   "pygments_lexer": "ipython3",
   "version": "3.7.2"
  }
 },
 "nbformat": 4,
 "nbformat_minor": 2
}
